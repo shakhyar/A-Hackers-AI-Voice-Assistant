{
 "cells": [
  {
   "cell_type": "code",
   "execution_count": 1,
   "id": "9ae7925d",
   "metadata": {},
   "outputs": [],
   "source": [
    "import torch\n",
    "import torch.nn as nn\n",
    "import torch.nn.functional as F\n",
    "import torch.optim as optim\n"
   ]
  },
  {
   "cell_type": "code",
   "execution_count": 2,
   "id": "fb137f7a",
   "metadata": {},
   "outputs": [],
   "source": [
    "import re\n",
    "import json\n",
    "import numpy as np\n",
    "from nltk import word_tokenize\n",
    "from nltk.stem.lancaster import LancasterStemmer\n",
    "import pickle\n",
    "\n",
    "from config import *\n",
    "stemmer = LancasterStemmer()\n",
    "pickle.dump(stemmer, open(saved_stemmer, 'wb'))\n",
    "\n",
    "def prepare_data():\n",
    "    with open(dataset_path) as file:\n",
    "        data = json.load(file)\n",
    "\n",
    "    try:\n",
    "        with open(saved_params, \"rb\") as f:\n",
    "            words, labels, training, output = pickle.load(f)\n",
    "            print(words, labels, training, output)\n",
    "            return training, output\n",
    "    except:\n",
    "        words = []\n",
    "        labels = []\n",
    "        docs_x = []\n",
    "        docs_y = []\n",
    "\n",
    "        for intent in data[\"intents\"]:\n",
    "            for pattern in intent[\"patterns\"]:\n",
    "                wrds = word_tokenize(pattern)\n",
    "                words.extend(wrds)\n",
    "                docs_x.append(wrds)\n",
    "                docs_y.append(intent[\"tag\"])\n",
    "\n",
    "            if intent[\"tag\"] not in labels:\n",
    "                labels.append(intent[\"tag\"])\n",
    "\n",
    "        words = [stemmer.stem(w.lower()) for w in words if w != \"?\"]\n",
    "        words = sorted(list(set(words)))\n",
    "\n",
    "        labels = sorted(labels)\n",
    "\n",
    "        training = []\n",
    "        output = []\n",
    "\n",
    "        out_empty = [0 for _ in range(len(labels))]\n",
    "\n",
    "        for x, doc in enumerate(docs_x):\n",
    "            bag = []\n",
    "\n",
    "            wrds = [stemmer.stem(w.lower()) for w in doc]\n",
    "\n",
    "            for w in words:\n",
    "                if w in wrds:\n",
    "                    bag.append(1)\n",
    "                else:\n",
    "                    bag.append(0)\n",
    "\n",
    "            output_row = out_empty[:]\n",
    "            output_row[labels.index(docs_y[x])] = 1\n",
    "\n",
    "            training.append(bag)\n",
    "            output.append(output_row)\n",
    "\n",
    "        training = np.array(training)\n",
    "        output = np.array(output)\n",
    "\n",
    "        with open(saved_params, \"wb\") as f:\n",
    "            pickle.dump((words, labels, training, output), f)\n",
    "\n",
    "        \n",
    "        return training, output\n",
    "\n"
   ]
  },
  {
   "cell_type": "code",
   "execution_count": 3,
   "id": "7b3c20ba",
   "metadata": {},
   "outputs": [],
   "source": [
    "# defining data parsing functions\n",
    "\n",
    "def find_dataset(path):\n",
    "    with open(path) as file:\n",
    "        data = json.load(file)\n",
    "        return data\n",
    "\n",
    "training_sentences = []\n",
    "training_labels = []\n",
    "labels = []\n",
    "responses = []\n",
    "\n",
    "def prep_data(path):\n",
    "    \"\"\"\n",
    "    :returns: training_sentences, training_labels, responses(list), labels, num_classes\n",
    "    \"\"\"\n",
    "    data = find_dataset(path=path)\n",
    "\n",
    "    for intent in data['intents']:\n",
    "        for pattern in intent['patterns']:\n",
    "            training_sentences.append(pattern)\n",
    "            training_labels.append(intent['tag'])\n",
    "        responses.append(intent['responses'])\n",
    "        \n",
    "        if intent['tag'] not in labels:\n",
    "            labels.append(intent['tag'])\n",
    "\n",
    "    num_classes = len(labels)\n",
    "\n",
    "    return training_sentences, training_labels, responses, labels, num_classes, data\n",
    "training_sentences, training_labels, responses, labels, num_classes, data = prep_data('data/data.json')"
   ]
  },
  {
   "cell_type": "code",
   "execution_count": null,
   "id": "f2aeb4c0",
   "metadata": {},
   "outputs": [],
   "source": []
  },
  {
   "cell_type": "code",
   "execution_count": null,
   "id": "eab4bf9d",
   "metadata": {},
   "outputs": [],
   "source": []
  },
  {
   "cell_type": "code",
   "execution_count": 4,
   "id": "2093516b",
   "metadata": {},
   "outputs": [
    {
     "name": "stdout",
     "output_type": "stream",
     "text": [
      "['a', 'abl', 'again', 'am', 'amaz', 'ar', 'awesom', 'be', 'bye', 'cal', 'can', 'chil', 'cool', 'crack', 'day', 'did', 'do', 'doing', 'down', 'ep', 'fre', 'from', 'giv', 'glad', 'good', 'gre', 'hah', 'happy', 'hav', 'heh', 'hello', 'hey', 'hi', 'hip', 'hobby', 'hop', 'how', 'howdy', 'humid', 'i', 'in', 'is', 'it', 'jazz', 'jok', 'jot', 'know', 'lat', 'latest', 'laugh', 'leav', 'lik', 'lmao', 'lof', 'lol', 'mak', 'me', 'mus', 'nam', 'new', 'not', 'on', 'play', 'provid', 'rain', 'rec', 'sdf', 'see', 'should', 'so', 'som', 'song', 'sup', 'talk', 'tel', 'temp', 'thank', 'that', 'the', 'ther', 'thi', 'tim', 'to', 'today', 'up', 'wak', 'was', 'weath', 'what', 'when', 'wher', 'who', 'whom', 'wil', 'work', 'writ', 'x', 'xyz', 'y', 'ye', 'yo', 'you', 'youtub', 'z'] ['blank', 'chat1', 'comment', 'cud', 'goodbye', 'greeting', 'happiness', 'hru', 'info', 'joke', 'jotnote', 'lofi', 'memorize', 'name', 'news', 'random', 'thank', 'weather', 'wrud', 'youtube'] [[0 0 0 ... 0 0 0]\n",
      " [0 0 0 ... 0 0 0]\n",
      " [0 0 0 ... 0 0 0]\n",
      " ...\n",
      " [0 0 0 ... 0 0 0]\n",
      " [0 0 0 ... 0 0 0]\n",
      " [0 0 0 ... 0 0 0]] [[0 0 0 ... 0 0 0]\n",
      " [0 0 0 ... 0 0 0]\n",
      " [0 0 0 ... 0 0 0]\n",
      " ...\n",
      " [1 0 0 ... 0 0 0]\n",
      " [1 0 0 ... 0 0 0]\n",
      " [1 0 0 ... 0 0 0]]\n"
     ]
    }
   ],
   "source": [
    "training, output = prepare_data()"
   ]
  },
  {
   "cell_type": "code",
   "execution_count": 5,
   "id": "10163cd8",
   "metadata": {},
   "outputs": [
    {
     "name": "stdout",
     "output_type": "stream",
     "text": [
      "NLU(\n",
      "  (inp): Linear(in_features=104, out_features=16, bias=True)\n",
      "  (h): Linear(in_features=16, out_features=8, bias=True)\n",
      "  (h2): Linear(in_features=8, out_features=8, bias=True)\n",
      "  (o): Linear(in_features=8, out_features=20, bias=True)\n",
      ")\n"
     ]
    }
   ],
   "source": [
    "class NLU(nn.Module):\n",
    "    \n",
    "    def __init__(self):\n",
    "        super(NLU, self).__init__()\n",
    "        self.inp = nn.Linear(len(training[0]), 16)\n",
    "        self.h = nn.Linear(16, 8)\n",
    "        self.h2 = nn.Linear(8, 8)\n",
    "        self.o = nn.Linear(8, len(output[0]))\n",
    "        \n",
    "    def forward(self, x):\n",
    "        x = F.elu(self.inp(x))\n",
    "        x = F.elu(self.h(x))\n",
    "        x = F.elu(self.h2(x))\n",
    "        x = self.o(x)\n",
    "        return F.sigmoid(x)\n",
    "        \n",
    "nlu = NLU()\n",
    "print(nlu)"
   ]
  },
  {
   "cell_type": "code",
   "execution_count": 6,
   "id": "2061ebba",
   "metadata": {},
   "outputs": [
    {
     "name": "stdout",
     "output_type": "stream",
     "text": [
      "8\n",
      "torch.Size([16, 104])\n"
     ]
    }
   ],
   "source": [
    "params = list(nlu.parameters())\n",
    "print(len(params))\n",
    "print(params[0].size())  # conv1's .weight"
   ]
  },
  {
   "cell_type": "code",
   "execution_count": 7,
   "id": "3a337859",
   "metadata": {},
   "outputs": [
    {
     "data": {
      "text/plain": [
       "(105, 20)"
      ]
     },
     "execution_count": 7,
     "metadata": {},
     "output_type": "execute_result"
    }
   ],
   "source": [
    "np.array(output).shape"
   ]
  },
  {
   "cell_type": "code",
   "execution_count": 8,
   "id": "2506311c",
   "metadata": {},
   "outputs": [
    {
     "data": {
      "text/plain": [
       "(105, 104)"
      ]
     },
     "execution_count": 8,
     "metadata": {},
     "output_type": "execute_result"
    }
   ],
   "source": [
    "training.shape"
   ]
  },
  {
   "cell_type": "code",
   "execution_count": 9,
   "id": "55a40a0b",
   "metadata": {},
   "outputs": [],
   "source": [
    "criterion = nn.CrossEntropyLoss()\n",
    "optimizer = optim.SGD(nlu.parameters(), lr=0.001, momentum=0.9)"
   ]
  },
  {
   "cell_type": "code",
   "execution_count": 10,
   "id": "933bdcdc",
   "metadata": {},
   "outputs": [
    {
     "name": "stderr",
     "output_type": "stream",
     "text": [
      "c:\\users\\romoni gogoi\\appdata\\local\\programs\\python\\python36\\lib\\site-packages\\torch\\nn\\functional.py:1806: UserWarning: nn.functional.sigmoid is deprecated. Use torch.sigmoid instead.\n",
      "  warnings.warn(\"nn.functional.sigmoid is deprecated. Use torch.sigmoid instead.\")\n"
     ]
    },
    {
     "name": "stdout",
     "output_type": "stream",
     "text": [
      "[1,    10] loss: 6.022\n",
      "[1,    20] loss: 6.058\n",
      "[1,    30] loss: 5.945\n",
      "[1,    40] loss: 5.944\n",
      "[1,    50] loss: 6.039\n",
      "[1,    60] loss: 6.087\n",
      "[1,    70] loss: 6.104\n",
      "[1,    80] loss: 5.969\n",
      "[1,    90] loss: 6.003\n",
      "[1,   100] loss: 5.983\n",
      "Finished Training\n"
     ]
    }
   ],
   "source": [
    "for epoch in range(1):  # loop over the dataset multiple times\n",
    "\n",
    "    running_loss = 0.0\n",
    "    ts = 0.0\n",
    "    for i, data in enumerate(training, 0):\n",
    "        # get the inputs; data is a list of [inputs, labels]\n",
    "        x, y = torch.Tensor(data), torch.Tensor(output[i])\n",
    "\n",
    "        # zero the parameter gradients\n",
    "        optimizer.zero_grad()\n",
    "\n",
    "        # forward + backward + optimize\n",
    "        y_hat = nlu(x)\n",
    "        y_hat = y_hat.reshape(1, 20)\n",
    "        y = y.reshape(1, 20)\n",
    "\n",
    "        loss = criterion(y_hat, y)\n",
    "        loss.backward()\n",
    "        optimizer.step()\n",
    "        \n",
    "        \n",
    "        running_loss += loss.item()\n",
    "        if i % 10 == 9:    # print every 2000 mini-batches\n",
    "            print(f'[{epoch + 1}, {i + 1:5d}] loss: {running_loss / 5:.3f}')\n",
    "            running_loss = 0.0\n",
    "\n",
    "print('Finished Training')"
   ]
  },
  {
   "cell_type": "code",
   "execution_count": 11,
   "id": "09163218",
   "metadata": {},
   "outputs": [
    {
     "data": {
      "text/plain": [
       "torch.Size([1, 20])"
      ]
     },
     "execution_count": 11,
     "metadata": {},
     "output_type": "execute_result"
    }
   ],
   "source": [
    "y.shape"
   ]
  },
  {
   "cell_type": "code",
   "execution_count": 12,
   "id": "0cb0266c",
   "metadata": {},
   "outputs": [],
   "source": [
    "PATH = 'model.pth'\n",
    "torch.save(nlu.state_dict(), PATH)"
   ]
  },
  {
   "cell_type": "code",
   "execution_count": 13,
   "id": "5b4a9ec2",
   "metadata": {},
   "outputs": [
    {
     "data": {
      "text/plain": [
       "<All keys matched successfully>"
      ]
     },
     "execution_count": 13,
     "metadata": {},
     "output_type": "execute_result"
    }
   ],
   "source": [
    "net = NLU()\n",
    "net.load_state_dict(torch.load(PATH))"
   ]
  },
  {
   "cell_type": "code",
   "execution_count": null,
   "id": "45f64d0c",
   "metadata": {},
   "outputs": [
    {
     "name": "stdout",
     "output_type": "stream",
     "text": [
      "Start talking with the bot (type quit to stop)!\n"
     ]
    }
   ],
   "source": [
    "import random\n",
    "from config import *\n",
    "\n",
    "\n",
    "data = json.load(open(dataset_path))\n",
    "stemmer = pickle.load(open(saved_stemmer, 'rb'))\n",
    "\n",
    "words, labels, _, _ = pickle.load(open(saved_params, 'rb'))\n",
    "\n",
    "\n",
    "\n",
    "def bag_of_words(s, words):\n",
    "    \"\"\"\n",
    "    Creating a bag of words to store how many times a word matches with the\n",
    "    data and inputs 1 or 0. For example, for a text in intent[\"patterns\"] if\n",
    "    the word in text appears in the data, then in the bag, we will insert 1,\n",
    "    for the next word, if it doesn't exists, then we will enter 0 to the bag.\n",
    "    Finally we will match all the text for the number of times 1 occurs.\n",
    "    The pattern with the max number of 1 will be taken as the correct match,\n",
    "    and we will output a random response from intent[\"responses\"] followed\n",
    "    by proper indices\n",
    "\n",
    "    \"\"\"\n",
    "\n",
    "    bag = [0 for _ in range(len(words))]\n",
    "\n",
    "    s_words = word_tokenize(s)\n",
    "    s_words = [stemmer.stem(word.lower()) for word in s_words]\n",
    "\n",
    "    for se in s_words:\n",
    "        for i, w in enumerate(words):\n",
    "            if w == se:\n",
    "                bag[i] = 1\n",
    "\n",
    "    return np.array(bag)\n",
    "\n",
    "\n",
    "def argmax(array):\n",
    "  index, value = 0, array[0]\n",
    "  for i,v in enumerate(array):\n",
    "    if v > value:\n",
    "      index, value = i,v\n",
    "  return index\n",
    "\n",
    "\n",
    "def chat():\n",
    "    \"\"\"\n",
    "    Final function that takes no arguments. In the starting of this\n",
    "    function, we are creating a table of our database. In the function method\n",
    "    create_table(bool) it checks for if the table exists, then passes\n",
    "    the method, if not then creates one.\n",
    "\n",
    "    In the results = model.predict(), we are passing the input from user\n",
    "    to match with the training data. The second arg that we are passing is a list\n",
    "    which is sorted with no duplicate words.\n",
    "\n",
    "    The most important statements are inside the for loop here. for tg in data[\"intents\"]\n",
    "    if the matched words and patterns fall in a particular tag, then grab that tag,\n",
    "    and return any random response from the responses tag of the trained json.\n",
    "\n",
    "\n",
    "    \"\"\"\n",
    "\n",
    "    print(\"Start talking with the bot (type quit to stop)!\")\n",
    "    inp = input(\"You: \")\n",
    "    if inp.lower() == \"quit\":\n",
    "        quit()\n",
    "\n",
    "    results = net(torch.Tensor([bag_of_words(inp, words)]))\n",
    "    results_index = np.argmax(results.detach().numpy())\n",
    "    print(results_index)\n",
    "    tag = labels[results_index]\n",
    "    print(tag)\n",
    "    print(labels)\n",
    "\n",
    "    for tg in data[\"intents\"]:\n",
    "        if tg['tag'] == tag:\n",
    "            responses = tg['responses']\n",
    "\n",
    "    return random.choice(responses)\n",
    "chat()"
   ]
  },
  {
   "cell_type": "code",
   "execution_count": null,
   "id": "e8a7eafa",
   "metadata": {},
   "outputs": [],
   "source": [
    "#FROM SCRATCH"
   ]
  },
  {
   "cell_type": "code",
   "execution_count": null,
   "id": "150381c8",
   "metadata": {},
   "outputs": [],
   "source": []
  }
 ],
 "metadata": {
  "kernelspec": {
   "display_name": "Python 3",
   "language": "python",
   "name": "python3"
  },
  "language_info": {
   "codemirror_mode": {
    "name": "ipython",
    "version": 3
   },
   "file_extension": ".py",
   "mimetype": "text/x-python",
   "name": "python",
   "nbconvert_exporter": "python",
   "pygments_lexer": "ipython3",
   "version": "3.6.6"
  }
 },
 "nbformat": 4,
 "nbformat_minor": 5
}
